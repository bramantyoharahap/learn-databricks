{
 "cells": [
  {
   "cell_type": "code",
   "execution_count": 0,
   "metadata": {
    "application/vnd.databricks.v1+cell": {
     "cellMetadata": {
      "byteLimit": 2048000,
      "rowLimit": 10000
     },
     "collapsed": true,
     "inputWidgets": {},
     "nuid": "fd14aa7c-2769-4aef-afae-e766c5e35af0",
     "showTitle": false,
     "tableResultSettingsMap": {},
     "title": ""
    }
   },
   "outputs": [],
   "source": [
    "%pip install --upgrade pandas sqlalchemy psycopg2-binary"
   ]
  },
  {
   "cell_type": "code",
   "execution_count": 0,
   "metadata": {
    "application/vnd.databricks.v1+cell": {
     "cellMetadata": {
      "byteLimit": 2048000,
      "rowLimit": 10000
     },
     "inputWidgets": {},
     "nuid": "cb19fb22-993c-438b-bba5-a6babc1f0a80",
     "showTitle": false,
     "tableResultSettingsMap": {},
     "title": ""
    }
   },
   "outputs": [],
   "source": [
    "%restart_python"
   ]
  },
  {
   "cell_type": "code",
   "execution_count": 0,
   "metadata": {
    "application/vnd.databricks.v1+cell": {
     "cellMetadata": {
      "byteLimit": 2048000,
      "rowLimit": 10000
     },
     "inputWidgets": {},
     "nuid": "7b3e2ec6-62e9-4faf-ab72-c6641448482c",
     "showTitle": false,
     "tableResultSettingsMap": {},
     "title": ""
    }
   },
   "outputs": [],
   "source": [
    "\n",
    "import pandas as pd\n",
    "from sqlalchemy import create_engine\n",
    "\n",
    "pg = {\n",
    "    \"hostname\": dbutils.secrets.get(scope=\"pg-config\", key=\"hostname\"),\n",
    "    \"dbname\": dbutils.secrets.get(scope=\"pg-config\", key=\"dbname\"),\n",
    "    \"port\": dbutils.secrets.get(scope=\"pg-config\", key=\"port\"),\n",
    "    \"username\": dbutils.secrets.get(scope=\"pg-config\", key=\"username\"),\n",
    "    \"password\": dbutils.secrets.get(scope=\"pg-config\", key=\"password\")\n",
    "}\n",
    "\n",
    "engine = create_engine(\n",
    "    f\"postgresql+psycopg2://{pg['username']}:{pg['password']}@{pg['hostname']}:{pg['port']}/{pg['dbname']}?sslmode=require\"\n",
    ")\n",
    "\n",
    "query = \"SELECT * FROM users\"\n",
    "df = pd.read_sql(query, engine)\n",
    "\n",
    "display(spark.createDataFrame(df))\n"
   ]
  }
 ],
 "metadata": {
  "application/vnd.databricks.v1+notebook": {
   "computePreferences": null,
   "dashboards": [],
   "environmentMetadata": {
    "base_environment": "",
    "environment_version": "3"
   },
   "inputWidgetPreferences": null,
   "language": "python",
   "notebookMetadata": {
    "pythonIndentUnit": 4
   },
   "notebookName": "Untitled Notebook 2025-10-05 14:25:26",
   "widgets": {}
  },
  "language_info": {
   "name": "python"
  }
 },
 "nbformat": 4,
 "nbformat_minor": 0
}
